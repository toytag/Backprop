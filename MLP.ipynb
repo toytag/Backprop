{
 "cells": [
  {
   "cell_type": "code",
   "execution_count": 1,
   "metadata": {},
   "outputs": [],
   "source": [
    "import numpy as np\n",
    "# Use torchvision to load MNIST dataset\n",
    "import torchvision\n",
    "# Training dataset\n",
    "train = torchvision.datasets.MNIST('./data', train=True, download=True)\n",
    "X_train = train.data.numpy().reshape(-1, 784) / 255.0\n",
    "y_train = train.targets.numpy()\n",
    "# Test dataset\n",
    "test = torchvision.datasets.MNIST('./data', train=False, download=True)\n",
    "X_test = test.data.numpy().reshape(-1, 784) / 255.0\n",
    "y_test = test.targets.numpy()"
   ]
  },
  {
   "cell_type": "code",
   "execution_count": 2,
   "metadata": {},
   "outputs": [],
   "source": [
    "class MLP:\n",
    "    def __init__(self):\n",
    "        self.w1 = 0.01 * np.random.randn(784, 64)\n",
    "        self.b1 = np.zeros((1, 64))\n",
    "        self.w2 = 0.01 * np.random.randn(64, 16)\n",
    "        self.b2 = np.zeros((1, 16))\n",
    "        self.w3 = 0.01 * np.random.randn(16, 10)\n",
    "        self.b3 = np.zeros((1, 10))\n",
    "        \n",
    "    def forward(self, X):\n",
    "        self.X = X\n",
    "        # relu\n",
    "        self.X1 = self.X @ self.w1 + self.b1\n",
    "        self.X1a = np.maximum(self.X1, 0)\n",
    "        # relu\n",
    "        self.X2 = self.X1a @ self.w2 + self.b2\n",
    "        self.X2a = np.maximum(self.X2, 0)\n",
    "        # softmax\n",
    "        self.X3 = self.X2a @ self.w3 + self.b3\n",
    "        eX = np.exp(self.X3)\n",
    "        self.output = eX / np.sum(eX, axis=-1, keepdims=True)\n",
    "        return self.output\n",
    "\n",
    "    def backward(self, gt, step_size=0.5, lambda_=0.001):\n",
    "        batch_size = len(self.output)\n",
    "        # cross entropy\n",
    "        # loss = np.sum(-np.log(self.output[range(batch_size),gt]))/batch_size\n",
    "        # print(loss)\n",
    "        # back propagation \n",
    "        diff = self.output\n",
    "        diff[range(batch_size),gt] -= 1\n",
    "        diff /= batch_size\n",
    "        dw3 = self.X2a.T @ diff\n",
    "        db3 = np.sum(diff, axis=0, keepdims=True)\n",
    "        diff = diff @ self.w3.T\n",
    "        diff[self.X2 <= 0] = 0\n",
    "        dw2 = self.X1a.T @ diff\n",
    "        db2 = np.sum(diff, axis=0, keepdims=True)\n",
    "        diff = diff @ self.w2.T\n",
    "        diff[self.X1 <= 0] = 0\n",
    "        dw1 = self.X.T @ diff\n",
    "        db1 = np.sum(diff, axis=0, keepdims=True)\n",
    "        # regulization\n",
    "        dw3 += lambda_ * self.w3\n",
    "        dw2 += lambda_ * self.w2\n",
    "        dw1 += lambda_ * self.w1\n",
    "        # gradient descent\n",
    "        self.w3 -= step_size * dw3\n",
    "        self.b3 -= step_size * db3\n",
    "        self.w2 -= step_size * dw2\n",
    "        self.b2 -= step_size * db2\n",
    "        self.w1 -= step_size * dw1\n",
    "        self.b1 -= step_size * db1"
   ]
  },
  {
   "cell_type": "code",
   "execution_count": 3,
   "metadata": {},
   "outputs": [],
   "source": [
    "model = MLP()"
   ]
  },
  {
   "cell_type": "code",
   "execution_count": 4,
   "metadata": {},
   "outputs": [],
   "source": [
    "# train\n",
    "for i in range(1000):\n",
    "    sample = np.random.choice(range(60000), 1000)\n",
    "    pred = model.forward(X_train[sample])\n",
    "    model.backward(y_train[sample])"
   ]
  },
  {
   "cell_type": "code",
   "execution_count": 5,
   "metadata": {},
   "outputs": [
    {
     "data": {
      "text/plain": [
       "0.9690666666666666"
      ]
     },
     "execution_count": 5,
     "metadata": {},
     "output_type": "execute_result"
    }
   ],
   "source": [
    "# training set accuracy\n",
    "np.sum(np.argmax(model.forward(X_train), axis=1) == y_train) / 60000"
   ]
  },
  {
   "cell_type": "code",
   "execution_count": 6,
   "metadata": {},
   "outputs": [
    {
     "data": {
      "text/plain": [
       "0.964"
      ]
     },
     "execution_count": 6,
     "metadata": {},
     "output_type": "execute_result"
    }
   ],
   "source": [
    "# test set accuracy\n",
    "np.sum(np.argmax(model.forward(X_test), axis=1) == y_test) / 10000"
   ]
  },
  {
   "cell_type": "code",
   "execution_count": null,
   "metadata": {},
   "outputs": [],
   "source": []
  }
 ],
 "metadata": {
  "kernelspec": {
   "display_name": "Python 3",
   "language": "python",
   "name": "python3"
  },
  "language_info": {
   "codemirror_mode": {
    "name": "ipython",
    "version": 3
   },
   "file_extension": ".py",
   "mimetype": "text/x-python",
   "name": "python",
   "nbconvert_exporter": "python",
   "pygments_lexer": "ipython3",
   "version": "3.6.9"
  }
 },
 "nbformat": 4,
 "nbformat_minor": 2
}
